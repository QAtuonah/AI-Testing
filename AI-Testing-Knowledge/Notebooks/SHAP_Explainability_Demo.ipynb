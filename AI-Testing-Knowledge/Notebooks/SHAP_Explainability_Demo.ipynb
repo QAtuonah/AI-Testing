# 🧠 SHAP Explainability Demo
# This notebook uses SHAP to visualize model decision logic.

import shap
import pandas as pd
import joblib

# Load model and data
model = joblib.load("../scripts/trained_model.pkl")
data = pd.read_csv("../datasets/input_data_sample.csv")

# Create SHAP explainer
explainer = shap.Explainer(model, data)
shap_values = explainer(data)

# Visualize
shap.summary_plot(shap_values, data)

# Optional: explain single prediction
shap.plots.waterfall(shap_values[0])
