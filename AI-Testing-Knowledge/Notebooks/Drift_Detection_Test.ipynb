# 🔄 Data Drift Detection
# This notebook compares the training data and incoming data distributions.

import pandas as pd
import matplotlib.pyplot as plt
from scipy.stats import ks_2samp

# Load datasets
baseline = pd.read_csv("../datasets/baseline_predictions.json")
incoming = pd.read_csv("../datasets/input_data_sample.csv")

# Compare distributions
column = "price"  # Example feature
stat, p_value = ks_2samp(baseline[column], incoming[column])
print(f"KS-Test for {column}: p-value = {p_value}")

# Plot to visualize drift
plt.hist(baseline[column], alpha=0.5, label="Baseline")
plt.hist(incoming[column], alpha=0.5, label="Incoming")
plt.title("Feature Drift Comparison")
plt.legend()
plt.show()
