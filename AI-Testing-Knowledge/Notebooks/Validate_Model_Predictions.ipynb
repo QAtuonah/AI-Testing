# 🧪 Validate Model Predictions
# This notebook tests if the model predictions are valid, consistent and in the expected format.

import pandas as pd
import joblib
from sklearn.metrics import classification_report

# Load model and test data
model = joblib.load("../scripts/trained_model.pkl")
test_data = pd.read_csv("../datasets/input_data_sample.csv")
ground_truth = pd.read_csv("../datasets/ground_truth_labels.csv")

# Run predictions
X = test_data.drop(columns=["userId"])  # Adjust based on schema
y_true = ground_truth["label"]
y_pred = model.predict(X)

# Output classification report
print(classification_report(y_true, y_pred))

# Optional sanity check
print("Sample Predictions:")
print(list(zip(y_true[:10], y_pred[:10])))
